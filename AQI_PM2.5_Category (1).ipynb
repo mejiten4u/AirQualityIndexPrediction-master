{
 "cells": [
  {
   "cell_type": "code",
   "execution_count": 1,
   "metadata": {},
   "outputs": [
    {
     "name": "stdout",
     "output_type": "stream",
     "text": [
      "30389\n"
     ]
    },
    {
     "name": "stderr",
     "output_type": "stream",
     "text": [
      "C:\\ProgramData\\Anaconda3\\lib\\site-packages\\pandas\\core\\indexing.py:190: SettingWithCopyWarning: \n",
      "A value is trying to be set on a copy of a slice from a DataFrame\n",
      "\n",
      "See the caveats in the documentation: http://pandas.pydata.org/pandas-docs/stable/indexing.html#indexing-view-versus-copy\n",
      "  self._setitem_with_indexer(indexer, value)\n"
     ]
    },
    {
     "ename": "TypeError",
     "evalue": "'<' not supported between instances of 'str' and 'int'",
     "output_type": "error",
     "traceback": [
      "\u001b[1;31m---------------------------------------------------------------------------\u001b[0m",
      "\u001b[1;31mTypeError\u001b[0m                                 Traceback (most recent call last)",
      "\u001b[1;32m<ipython-input-1-a39d91133229>\u001b[0m in \u001b[0;36m<module>\u001b[1;34m\u001b[0m\n\u001b[0;32m     33\u001b[0m     \u001b[0mlen_num\u001b[0m\u001b[1;33m=\u001b[0m\u001b[0mlen\u001b[0m\u001b[1;33m(\u001b[0m\u001b[0mAQIHi\u001b[0m\u001b[1;33m)\u001b[0m\u001b[1;33m\u001b[0m\u001b[1;33m\u001b[0m\u001b[0m\n\u001b[0;32m     34\u001b[0m     \u001b[1;32mfor\u001b[0m \u001b[0mj\u001b[0m \u001b[1;32min\u001b[0m \u001b[0mrange\u001b[0m\u001b[1;33m(\u001b[0m\u001b[0mlen_num\u001b[0m\u001b[1;33m)\u001b[0m\u001b[1;33m:\u001b[0m\u001b[1;33m\u001b[0m\u001b[1;33m\u001b[0m\u001b[0m\n\u001b[1;32m---> 35\u001b[1;33m         \u001b[1;32mif\u001b[0m \u001b[0mpollution\u001b[0m\u001b[1;33m<\u001b[0m\u001b[0mConcHi\u001b[0m\u001b[1;33m[\u001b[0m\u001b[0mj\u001b[0m\u001b[1;33m]\u001b[0m \u001b[1;32mand\u001b[0m \u001b[0mpollution\u001b[0m \u001b[1;33m>=\u001b[0m \u001b[0mConcLo\u001b[0m\u001b[1;33m[\u001b[0m\u001b[0mj\u001b[0m\u001b[1;33m]\u001b[0m\u001b[1;33m:\u001b[0m \u001b[1;31m#finding the exact range of the measured PM2.5 value\u001b[0m\u001b[1;33m\u001b[0m\u001b[1;33m\u001b[0m\u001b[0m\n\u001b[0m\u001b[0;32m     36\u001b[0m             \u001b[0mz\u001b[0m\u001b[1;33m=\u001b[0m\u001b[1;33m(\u001b[0m\u001b[0mConcLo\u001b[0m\u001b[1;33m[\u001b[0m\u001b[0mj\u001b[0m\u001b[1;33m]\u001b[0m\u001b[1;33m)\u001b[0m\u001b[1;33m\u001b[0m\u001b[1;33m\u001b[0m\u001b[0m\n\u001b[0;32m     37\u001b[0m \u001b[1;33m\u001b[0m\u001b[0m\n",
      "\u001b[1;31mTypeError\u001b[0m: '<' not supported between instances of 'str' and 'int'"
     ]
    }
   ],
   "source": [
    "# -*- coding: utf-8 -*-\n",
    "\n",
    "\n",
    "import pandas as pd\n",
    "from pandas import DataFrame\n",
    "\n",
    "#assigning the AQI and PM Concentration range\n",
    "AQIHi = [50,100,150,200,300,400,500]\n",
    "AQILo=[0,51,101,151,201,301,401]\n",
    "ConcHi=[20,40,60,160,260,360,500]\n",
    "ConcLo=[0,20.1,40.1,60.1,160.1,260.1,360.1]\n",
    "AQIcat=[\"Good\",\"Moderate\",\"Unhealthy for Sensitive Groups\",\"Unhealthy\",\"Very Unhealthy\",\"Hazardous\",\"Very Hazardous\"]\n",
    "#reading excel file\n",
    "poll=pd.read_excel(r\"C:\\Users\\Dell\\Desktop\\Desktop Document\\My_Project_testing\\data\\Compiled sheet of Ratnapark Data 2017_2020 PM2.5.xlsx\")\n",
    "\n",
    "#assigning PM2.5 average and AQI to variables\n",
    "x = poll[['PM2.5_Avg']]\n",
    "\n",
    "y = poll[['AQI Category']]\n",
    "poll.rename(columns = {'AQI Category':'AQI_PM2.5'}, inplace = True) \n",
    "poll['AQI Category'] = '' \n",
    "\n",
    "x_num=len(x)\n",
    "print(x_num)\n",
    "\n",
    "i=0\n",
    "AQ=[]\n",
    "for i in range(x_num):\n",
    "    pollution = x.iloc[i]['PM2.5_Avg'] #extracting the PM2.5 value into a variable\n",
    "    #print(pollution)\n",
    "    #print(type(pollution))\n",
    "    len_num=0\n",
    "    len_num=len(AQIHi)\n",
    "    for j in range(len_num):\n",
    "        if pollution<ConcHi[j] and pollution>=ConcLo[j]: #finding the exact range of the measured PM2.5 value\n",
    "            z=(ConcLo[j])\n",
    "            \n",
    "            ind=ConcLo.index(z) #finding out the index of the PM2.5 range to be used for AQI calculation\n",
    "            \n",
    "            #extracting the respective upper and lower limit values for the index\n",
    "            CH=ConcHi[ind]\n",
    "            CL=ConcLo[ind]\n",
    "            AH=AQIHi[ind]\n",
    "            AL=AQILo[ind]\n",
    "            \n",
    "            #AQI calculation\n",
    "            try:\n",
    "                y=((AH-AL)/(CH-CL))*(pollution-CL)+(AL)\n",
    "            except ZeroDivisionError:\n",
    "                print ('NA')\n",
    "            AQI=int(round(y,0)) #rounding off the AQI values with 0 decimal place\n",
    "            #print(AQI)\n",
    "            \n",
    "            \n",
    "            #appending the AQI values to AQI Category\n",
    "            poll['AQI_PM2.5'].iloc[i] = AQI\n",
    "            poll['AQI Category'].iloc[i] = AQIcat[j]\n",
    "print(poll)\n",
    "\n",
    "#exporting the data frame with calculated AQI to excel\n",
    "poll.to_excel (r\"C:/Users/Dell/Downloads/new01_Compiled sheet of Ratnapark Data 2020_PM2.5.xlsx\", index = False, header=True)\n",
    "\n",
    "            \n"
   ]
  },
  {
   "cell_type": "code",
   "execution_count": null,
   "metadata": {},
   "outputs": [],
   "source": []
  }
 ],
 "metadata": {
  "kernelspec": {
   "display_name": "Python 3",
   "language": "python",
   "name": "python3"
  },
  "language_info": {
   "codemirror_mode": {
    "name": "ipython",
    "version": 3
   },
   "file_extension": ".py",
   "mimetype": "text/x-python",
   "name": "python",
   "nbconvert_exporter": "python",
   "pygments_lexer": "ipython3",
   "version": "3.7.3"
  }
 },
 "nbformat": 4,
 "nbformat_minor": 4
}
